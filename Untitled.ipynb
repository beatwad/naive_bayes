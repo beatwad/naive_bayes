{
 "cells": [
  {
   "cell_type": "markdown",
   "metadata": {},
   "source": [
    "# Filter SMS spam with Naive Bayes\n",
    "\n",
    "# Import dataset"
   ]
  },
  {
   "cell_type": "code",
   "execution_count": 68,
   "metadata": {
    "scrolled": true
   },
   "outputs": [
    {
     "data": {
      "text/html": [
       "<div>\n",
       "<style scoped>\n",
       "    .dataframe tbody tr th:only-of-type {\n",
       "        vertical-align: middle;\n",
       "    }\n",
       "\n",
       "    .dataframe tbody tr th {\n",
       "        vertical-align: top;\n",
       "    }\n",
       "\n",
       "    .dataframe thead th {\n",
       "        text-align: right;\n",
       "    }\n",
       "</style>\n",
       "<table border=\"1\" class=\"dataframe\">\n",
       "  <thead>\n",
       "    <tr style=\"text-align: right;\">\n",
       "      <th></th>\n",
       "      <th>Label</th>\n",
       "      <th>SMS</th>\n",
       "    </tr>\n",
       "  </thead>\n",
       "  <tbody>\n",
       "    <tr>\n",
       "      <th>0</th>\n",
       "      <td>ham</td>\n",
       "      <td>Go until jurong point, crazy.. Available only ...</td>\n",
       "    </tr>\n",
       "    <tr>\n",
       "      <th>1</th>\n",
       "      <td>ham</td>\n",
       "      <td>Ok lar... Joking wif u oni...</td>\n",
       "    </tr>\n",
       "    <tr>\n",
       "      <th>2</th>\n",
       "      <td>spam</td>\n",
       "      <td>Free entry in 2 a wkly comp to win FA Cup fina...</td>\n",
       "    </tr>\n",
       "    <tr>\n",
       "      <th>3</th>\n",
       "      <td>ham</td>\n",
       "      <td>U dun say so early hor... U c already then say...</td>\n",
       "    </tr>\n",
       "    <tr>\n",
       "      <th>4</th>\n",
       "      <td>ham</td>\n",
       "      <td>Nah I don't think he goes to usf, he lives aro...</td>\n",
       "    </tr>\n",
       "  </tbody>\n",
       "</table>\n",
       "</div>"
      ],
      "text/plain": [
       "  Label                                                SMS\n",
       "0   ham  Go until jurong point, crazy.. Available only ...\n",
       "1   ham                      Ok lar... Joking wif u oni...\n",
       "2  spam  Free entry in 2 a wkly comp to win FA Cup fina...\n",
       "3   ham  U dun say so early hor... U c already then say...\n",
       "4   ham  Nah I don't think he goes to usf, he lives aro..."
      ]
     },
     "execution_count": 68,
     "metadata": {},
     "output_type": "execute_result"
    }
   ],
   "source": [
    "import pandas as pd\n",
    "sms = pd.read_csv('SMSSpamCollection', sep='\\t', names=['Label', 'SMS'])\n",
    "sms.head()"
   ]
  },
  {
   "cell_type": "markdown",
   "metadata": {},
   "source": [
    "# Randomize dataset"
   ]
  },
  {
   "cell_type": "code",
   "execution_count": 69,
   "metadata": {},
   "outputs": [],
   "source": [
    "# randomly mix the entire dataset, use random_state to ensure reproducibility of results\n",
    "sms = sms.sample(frac=1, random_state=1) "
   ]
  },
  {
   "cell_type": "markdown",
   "metadata": {},
   "source": [
    "# Divide dataset on train and test dataset"
   ]
  },
  {
   "cell_type": "code",
   "execution_count": 95,
   "metadata": {},
   "outputs": [],
   "source": [
    "sms_train = sms.iloc[:round(sms.shape[0]*0.8)].copy() # set first 80% of dataset to train set\n",
    "sms_test = sms.iloc[round(sms.shape[0]*0.8):].copy() # set first 20% of dataset to test set"
   ]
  },
  {
   "cell_type": "markdown",
   "metadata": {},
   "source": [
    "# Count the percent of spam in train, test and full datasets"
   ]
  },
  {
   "cell_type": "code",
   "execution_count": 96,
   "metadata": {},
   "outputs": [
    {
     "name": "stdout",
     "output_type": "stream",
     "text": [
      "0.13458950201884254\n",
      "0.1319569120287253\n",
      "0.13406317300789664\n"
     ]
    }
   ],
   "source": [
    "# count and show the percent of spam in train dataset\n",
    "sms_train_spam = sms_train[sms_train['Label'] == 'spam'].copy()\n",
    "sms_train_percent = sms_train_spam.shape[0]/sms_train.shape[0]\n",
    "print(sms_train_percent)\n",
    "# count and show the percent of spam in test dataset\n",
    "sms_test_spam = sms_test[sms_test['Label'] == 'spam'].copy()\n",
    "sms_test_percent = sms_test_spam.shape[0]/sms_test.shape[0]\n",
    "print(sms_test_percent)\n",
    "# count and show the percent of spam in test dataset\n",
    "sms_spam = sms[sms['Label'] == 'spam'].copy()\n",
    "sms_percent = sms_spam.shape[0]/sms.shape[0]\n",
    "print(sms_percent)"
   ]
  },
  {
   "cell_type": "markdown",
   "metadata": {},
   "source": [
    "As we can see, spam percents in train, test and full datasets are almost the same.\n",
    "\n",
    "# Clean the dataset"
   ]
  },
  {
   "cell_type": "code",
   "execution_count": 129,
   "metadata": {},
   "outputs": [],
   "source": [
    "# remove all non letter and digit symbols from full, train and test datasets\n",
    "sms_clean = sms.copy()\n",
    "sms_clean['SMS'] = sms_clean.loc[:, 'SMS'].str.replace('\\W', ' ').str.lower()\n",
    "sms_train_clean = sms_train.copy()\n",
    "sms_train_clean['SMS'] = sms_train_clean.loc[:, 'SMS'].str.replace('\\W', ' ').str.lower()\n",
    "sms_test_clean = sms_test.copy()\n",
    "sms_test_clean['SMS'] = sms_test.loc[:, 'SMS'].str.replace('\\W', ' ').str.lower()"
   ]
  },
  {
   "cell_type": "markdown",
   "metadata": {},
   "source": [
    "# Make a vocabulary"
   ]
  },
  {
   "cell_type": "code",
   "execution_count": 135,
   "metadata": {},
   "outputs": [],
   "source": [
    "# initialize vocabulary\n",
    "vocabulary = list()\n",
    "\n",
    "# split all messages in full dataset on list values\n",
    "sms_col_list = sms_clean['SMS'].str.split('\\s+')\n",
    "\n",
    "# add all words from dataset to vocabulary list\n",
    "for row in sms_col_list:\n",
    "    for word in row:\n",
    "        vocabulary.append(word)\n",
    "        \n",
    "\n",
    "vocabulary = list(set(vocabulary))\n",
    "vocabulary.remove('')"
   ]
  },
  {
   "cell_type": "code",
   "execution_count": 137,
   "metadata": {},
   "outputs": [
    {
     "data": {
      "text/plain": [
       "8753"
      ]
     },
     "execution_count": 137,
     "metadata": {},
     "output_type": "execute_result"
    }
   ],
   "source": [
    "len(vocabulary)"
   ]
  }
 ],
 "metadata": {
  "kernelspec": {
   "display_name": "Python 3",
   "language": "python",
   "name": "python3"
  },
  "language_info": {
   "codemirror_mode": {
    "name": "ipython",
    "version": 3
   },
   "file_extension": ".py",
   "mimetype": "text/x-python",
   "name": "python",
   "nbconvert_exporter": "python",
   "pygments_lexer": "ipython3",
   "version": "3.7.3"
  }
 },
 "nbformat": 4,
 "nbformat_minor": 2
}
